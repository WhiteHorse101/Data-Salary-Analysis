{
 "cells": [
  {
   "cell_type": "markdown",
   "metadata": {},
   "source": [
    "# DATA JOBS SALARY ANALYSIS\n",
    "\n",
    "### Content: \n",
    "\n",
    "1. work_year: The year the salary was paid.\n",
    "   \n",
    "2. experience_level: The experience level in the job during the year\n",
    "   \n",
    "3. employment_type: The type of employment for the role\n",
    "   \n",
    "4. job_title: The role worked in during the year.\n",
    "   \n",
    "5. salary: The total gross salary amount paid.\n",
    "   \n",
    "6. salary_currency: The currency of the salary paid as an ISO 4217 currency code.\n",
    "   \n",
    "7. salaryinusd: The salary in USD\n",
    "   \n",
    "8. employee_residence: Employee's primary country of residence in during the work year as an ISO 3166 country code.\n",
    "   \n",
    "9.  remote_ratio: The overall amount of work done remotely\n",
    "    \n",
    "10. company_location: The country of the employer's main office or contracting branch\n",
    "    \n",
    "11. company_size: The median number of people that worked for the company during the year\n",
    "\n",
    "\n",
    "#### There's 4 categorical values in column 'Experience Level', each are:\n",
    "\n",
    "        - EN, which refers to Entry-level / Junior.\n",
    "\n",
    "        - MI, which refers to Mid-level / Intermediate.\n",
    "\n",
    "        - SE, which refers to Senior-level / Expert.\n",
    "\n",
    "        - EX, which refers to Executive-level / Director."
   ]
  },
  {
   "cell_type": "code",
   "execution_count": 1,
   "metadata": {},
   "outputs": [],
   "source": [
    "import pandas as pd\n",
    "import numpy as np"
   ]
  },
  {
   "cell_type": "code",
   "execution_count": null,
   "metadata": {},
   "outputs": [],
   "source": []
  }
 ],
 "metadata": {
  "kernelspec": {
   "display_name": "base",
   "language": "python",
   "name": "python3"
  },
  "language_info": {
   "codemirror_mode": {
    "name": "ipython",
    "version": 3
   },
   "file_extension": ".py",
   "mimetype": "text/x-python",
   "name": "python",
   "nbconvert_exporter": "python",
   "pygments_lexer": "ipython3",
   "version": "3.8.8"
  }
 },
 "nbformat": 4,
 "nbformat_minor": 2
}
